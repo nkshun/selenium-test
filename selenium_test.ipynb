{
 "cells": [
  {
   "cell_type": "code",
   "execution_count": 1,
   "id": "2a8bd414",
   "metadata": {},
   "outputs": [
    {
     "name": "stdout",
     "output_type": "stream",
     "text": [
      "Collecting selenium\n",
      "  Using cached selenium-3.141.0-py2.py3-none-any.whl (904 kB)\n",
      "Collecting urllib3\n",
      "  Downloading urllib3-1.26.6-py2.py3-none-any.whl (138 kB)\n",
      "\u001b[K     |████████████████████████████████| 138 kB 3.0 MB/s eta 0:00:01\n",
      "\u001b[?25hInstalling collected packages: urllib3, selenium\n",
      "Successfully installed selenium-3.141.0 urllib3-1.26.6\n"
     ]
    }
   ],
   "source": [
    "!pip3 install selenium"
   ]
  },
  {
   "cell_type": "code",
   "execution_count": null,
   "id": "b0cf9a12",
   "metadata": {},
   "outputs": [
    {
     "name": "stdout",
     "output_type": "stream",
     "text": [
      "Requirement already satisfied: pyautogui in ./lib/python3.8/site-packages (0.9.52)\n",
      "Requirement already satisfied: pymsgbox in ./lib/python3.8/site-packages (from pyautogui) (1.0.9)\n",
      "Requirement already satisfied: PyTweening>=1.0.1 in ./lib/python3.8/site-packages (from pyautogui) (1.0.3)\n",
      "Requirement already satisfied: pyscreeze>=0.1.21 in ./lib/python3.8/site-packages (from pyautogui) (0.1.27)\n",
      "Requirement already satisfied: pygetwindow>=0.0.5 in ./lib/python3.8/site-packages (from pyautogui) (0.0.9)\n",
      "Requirement already satisfied: mouseinfo in ./lib/python3.8/site-packages (from pyautogui) (0.1.3)\n",
      "Requirement already satisfied: pyobjc-core in ./lib/python3.8/site-packages (from pyautogui) (7.3)\n",
      "Requirement already satisfied: pyobjc in ./lib/python3.8/site-packages (from pyautogui) (7.3)\n",
      "Requirement already satisfied: pyrect in ./lib/python3.8/site-packages (from pygetwindow>=0.0.5->pyautogui) (0.1.4)\n",
      "Requirement already satisfied: Pillow>=6.2.1 in ./lib/python3.8/site-packages (from pyscreeze>=0.1.21->pyautogui) (8.3.0)\n",
      "Requirement already satisfied: pyperclip in ./lib/python3.8/site-packages (from mouseinfo->pyautogui) (1.8.2)\n",
      "Requirement already satisfied: rubicon-objc in ./lib/python3.8/site-packages (from mouseinfo->pyautogui) (0.4.0)\n",
      "Requirement already satisfied: pyobjc-framework-LocalAuthentication==7.3 in ./lib/python3.8/site-packages (from pyobjc->pyautogui) (7.3)\n",
      "Requirement already satisfied: pyobjc-framework-IMServicePlugIn==7.3 in ./lib/python3.8/site-packages (from pyobjc->pyautogui) (7.3)\n",
      "Requirement already satisfied: pyobjc-framework-DiscRecording==7.3 in ./lib/python3.8/site-packages (from pyobjc->pyautogui) (7.3)\n",
      "Requirement already satisfied: pyobjc-framework-ModelIO==7.3 in ./lib/python3.8/site-packages (from pyobjc->pyautogui) (7.3)\n",
      "Requirement already satisfied: pyobjc-framework-InstantMessage==7.3 in ./lib/python3.8/site-packages (from pyobjc->pyautogui) (7.3)\n",
      "Requirement already satisfied: pyobjc-framework-CoreSpotlight==7.3 in ./lib/python3.8/site-packages (from pyobjc->pyautogui) (7.3)\n",
      "Requirement already satisfied: pyobjc-framework-CoreServices==7.3 in ./lib/python3.8/site-packages (from pyobjc->pyautogui) (7.3)\n",
      "Requirement already satisfied: pyobjc-framework-NotificationCenter==7.3 in ./lib/python3.8/site-packages (from pyobjc->pyautogui) (7.3)\n",
      "Requirement already satisfied: pyobjc-framework-DeviceCheck==7.3 in ./lib/python3.8/site-packages (from pyobjc->pyautogui) (7.3)\n",
      "Requirement already satisfied: pyobjc-framework-FinderSync==7.3 in ./lib/python3.8/site-packages (from pyobjc->pyautogui) (7.3)\n",
      "Requirement already satisfied: pyobjc-framework-FileProvider==7.3 in ./lib/python3.8/site-packages (from pyobjc->pyautogui) (7.3)\n",
      "Requirement already satisfied: pyobjc-framework-PreferencePanes==7.3 in ./lib/python3.8/site-packages (from pyobjc->pyautogui) (7.3)\n",
      "Requirement already satisfied: pyobjc-framework-MediaToolbox==7.3 in ./lib/python3.8/site-packages (from pyobjc->pyautogui) (7.3)\n",
      "Requirement already satisfied: pyobjc-framework-AVKit==7.3 in ./lib/python3.8/site-packages (from pyobjc->pyautogui) (7.3)\n",
      "Requirement already satisfied: pyobjc-framework-CoreMedia==7.3 in ./lib/python3.8/site-packages (from pyobjc->pyautogui) (7.3)\n",
      "Requirement already satisfied: pyobjc-framework-SoundAnalysis==7.3 in ./lib/python3.8/site-packages (from pyobjc->pyautogui) (7.3)\n",
      "Requirement already satisfied: pyobjc-framework-UserNotifications==7.3 in ./lib/python3.8/site-packages (from pyobjc->pyautogui) (7.3)\n",
      "Requirement already satisfied: pyobjc-framework-ExternalAccessory==7.3 in ./lib/python3.8/site-packages (from pyobjc->pyautogui) (7.3)\n",
      "Requirement already satisfied: pyobjc-framework-FileProviderUI==7.3 in ./lib/python3.8/site-packages (from pyobjc->pyautogui) (7.3)\n",
      "Requirement already satisfied: pyobjc-framework-SystemConfiguration==7.3 in ./lib/python3.8/site-packages (from pyobjc->pyautogui) (7.3)\n",
      "Requirement already satisfied: pyobjc-framework-VideoToolbox==7.3 in ./lib/python3.8/site-packages (from pyobjc->pyautogui) (7.3)\n",
      "Requirement already satisfied: pyobjc-framework-Photos==7.3 in ./lib/python3.8/site-packages (from pyobjc->pyautogui) (7.3)\n",
      "Requirement already satisfied: pyobjc-framework-ContactsUI==7.3 in ./lib/python3.8/site-packages (from pyobjc->pyautogui) (7.3)\n",
      "Requirement already satisfied: pyobjc-framework-NaturalLanguage==7.3 in ./lib/python3.8/site-packages (from pyobjc->pyautogui) (7.3)\n",
      "Requirement already satisfied: pyobjc-framework-DiskArbitration==7.3 in ./lib/python3.8/site-packages (from pyobjc->pyautogui) (7.3)\n",
      "Requirement already satisfied: pyobjc-framework-CoreText==7.3 in ./lib/python3.8/site-packages (from pyobjc->pyautogui) (7.3)\n",
      "Requirement already satisfied: pyobjc-framework-Accounts==7.3 in ./lib/python3.8/site-packages (from pyobjc->pyautogui) (7.3)\n",
      "Requirement already satisfied: pyobjc-framework-SafariServices==7.3 in ./lib/python3.8/site-packages (from pyobjc->pyautogui) (7.3)\n",
      "Requirement already satisfied: pyobjc-framework-SystemExtensions==7.3 in ./lib/python3.8/site-packages (from pyobjc->pyautogui) (7.3)\n",
      "Requirement already satisfied: pyobjc-framework-AppleScriptKit==7.3 in ./lib/python3.8/site-packages (from pyobjc->pyautogui) (7.3)\n",
      "Requirement already satisfied: pyobjc-framework-CFNetwork==7.3 in ./lib/python3.8/site-packages (from pyobjc->pyautogui) (7.3)\n",
      "Requirement already satisfied: pyobjc-framework-SecurityInterface==7.3 in ./lib/python3.8/site-packages (from pyobjc->pyautogui) (7.3)\n",
      "Requirement already satisfied: pyobjc-framework-EventKit==7.3 in ./lib/python3.8/site-packages (from pyobjc->pyautogui) (7.3)\n",
      "Requirement already satisfied: pyobjc-framework-CoreHaptics==7.3 in ./lib/python3.8/site-packages (from pyobjc->pyautogui) (7.3)\n",
      "Requirement already satisfied: pyobjc-framework-ScriptingBridge==7.3 in ./lib/python3.8/site-packages (from pyobjc->pyautogui) (7.3)\n",
      "Requirement already satisfied: pyobjc-framework-InstallerPlugins==7.3 in ./lib/python3.8/site-packages (from pyobjc->pyautogui) (7.3)\n",
      "Requirement already satisfied: pyobjc-framework-AddressBook==7.3 in ./lib/python3.8/site-packages (from pyobjc->pyautogui) (7.3)\n",
      "Requirement already satisfied: pyobjc-framework-ServiceManagement==7.3 in ./lib/python3.8/site-packages (from pyobjc->pyautogui) (7.3)\n",
      "Requirement already satisfied: pyobjc-framework-AVFoundation==7.3 in ./lib/python3.8/site-packages (from pyobjc->pyautogui) (7.3)\n",
      "Requirement already satisfied: pyobjc-framework-GameController==7.3 in ./lib/python3.8/site-packages (from pyobjc->pyautogui) (7.3)\n",
      "Requirement already satisfied: pyobjc-framework-ImageCaptureCore==7.3 in ./lib/python3.8/site-packages (from pyobjc->pyautogui) (7.3)\n",
      "Requirement already satisfied: pyobjc-framework-DictionaryServices==7.3 in ./lib/python3.8/site-packages (from pyobjc->pyautogui) (7.3)\n",
      "Requirement already satisfied: pyobjc-framework-VideoSubscriberAccount==7.3 in ./lib/python3.8/site-packages (from pyobjc->pyautogui) (7.3)\n",
      "Requirement already satisfied: pyobjc-framework-AdSupport==7.3 in ./lib/python3.8/site-packages (from pyobjc->pyautogui) (7.3)\n",
      "Requirement already satisfied: pyobjc-framework-GameplayKit==7.3 in ./lib/python3.8/site-packages (from pyobjc->pyautogui) (7.3)\n",
      "Requirement already satisfied: pyobjc-framework-CloudKit==7.3 in ./lib/python3.8/site-packages (from pyobjc->pyautogui) (7.3)\n",
      "Requirement already satisfied: pyobjc-framework-SpriteKit==7.3 in ./lib/python3.8/site-packages (from pyobjc->pyautogui) (7.3)\n",
      "Requirement already satisfied: pyobjc-framework-ExceptionHandling==7.3 in ./lib/python3.8/site-packages (from pyobjc->pyautogui) (7.3)\n",
      "Requirement already satisfied: pyobjc-framework-MediaAccessibility==7.3 in ./lib/python3.8/site-packages (from pyobjc->pyautogui) (7.3)\n",
      "Requirement already satisfied: pyobjc-framework-CryptoTokenKit==7.3 in ./lib/python3.8/site-packages (from pyobjc->pyautogui) (7.3)\n",
      "Requirement already satisfied: pyobjc-framework-ApplicationServices==7.3 in ./lib/python3.8/site-packages (from pyobjc->pyautogui) (7.3)\n",
      "Requirement already satisfied: pyobjc-framework-NetFS==7.3 in ./lib/python3.8/site-packages (from pyobjc->pyautogui) (7.3)\n",
      "Requirement already satisfied: pyobjc-framework-Speech==7.3 in ./lib/python3.8/site-packages (from pyobjc->pyautogui) (7.3)\n",
      "Requirement already satisfied: pyobjc-framework-Vision==7.3 in ./lib/python3.8/site-packages (from pyobjc->pyautogui) (7.3)\n",
      "Requirement already satisfied: pyobjc-framework-SyncServices==7.3 in ./lib/python3.8/site-packages (from pyobjc->pyautogui) (7.3)\n",
      "Requirement already satisfied: pyobjc-framework-SceneKit==7.3 in ./lib/python3.8/site-packages (from pyobjc->pyautogui) (7.3)\n",
      "Requirement already satisfied: pyobjc-framework-LatentSemanticMapping==7.3 in ./lib/python3.8/site-packages (from pyobjc->pyautogui) (7.3)\n",
      "Requirement already satisfied: pyobjc-framework-PhotosUI==7.3 in ./lib/python3.8/site-packages (from pyobjc->pyautogui) (7.3)\n"
     ]
    },
    {
     "name": "stdout",
     "output_type": "stream",
     "text": [
      "Requirement already satisfied: pyobjc-framework-OSAKit==7.3 in ./lib/python3.8/site-packages (from pyobjc->pyautogui) (7.3)\n",
      "Requirement already satisfied: pyobjc-framework-MediaLibrary==7.3 in ./lib/python3.8/site-packages (from pyobjc->pyautogui) (7.3)\n",
      "Requirement already satisfied: pyobjc-framework-CoreWLAN==7.3 in ./lib/python3.8/site-packages (from pyobjc->pyautogui) (7.3)\n",
      "Requirement already satisfied: pyobjc-framework-Intents==7.3 in ./lib/python3.8/site-packages (from pyobjc->pyautogui) (7.3)\n",
      "Requirement already satisfied: pyobjc-framework-ExecutionPolicy==7.3 in ./lib/python3.8/site-packages (from pyobjc->pyautogui) (7.3)\n",
      "Requirement already satisfied: pyobjc-framework-Metal==7.3 in ./lib/python3.8/site-packages (from pyobjc->pyautogui) (7.3)\n",
      "Requirement already satisfied: pyobjc-framework-BusinessChat==7.3 in ./lib/python3.8/site-packages (from pyobjc->pyautogui) (7.3)\n",
      "Requirement already satisfied: pyobjc-framework-WebKit==7.3 in ./lib/python3.8/site-packages (from pyobjc->pyautogui) (7.3)\n",
      "Requirement already satisfied: pyobjc-framework-Social==7.3 in ./lib/python3.8/site-packages (from pyobjc->pyautogui) (7.3)\n",
      "Requirement already satisfied: pyobjc-framework-OSLog==7.3 in ./lib/python3.8/site-packages (from pyobjc->pyautogui) (7.3)\n",
      "Requirement already satisfied: pyobjc-framework-NetworkExtension==7.3 in ./lib/python3.8/site-packages (from pyobjc->pyautogui) (7.3)\n",
      "Requirement already satisfied: pyobjc-framework-Automator==7.3 in ./lib/python3.8/site-packages (from pyobjc->pyautogui) (7.3)\n",
      "Requirement already satisfied: pyobjc-framework-AppleScriptObjC==7.3 in ./lib/python3.8/site-packages (from pyobjc->pyautogui) (7.3)\n",
      "Requirement already satisfied: pyobjc-framework-PencilKit==7.3 in ./lib/python3.8/site-packages (from pyobjc->pyautogui) (7.3)\n",
      "Requirement already satisfied: pyobjc-framework-GameKit==7.3 in ./lib/python3.8/site-packages (from pyobjc->pyautogui) (7.3)\n",
      "Requirement already satisfied: pyobjc-framework-OpenDirectory==7.3 in ./lib/python3.8/site-packages (from pyobjc->pyautogui) (7.3)\n",
      "Requirement already satisfied: pyobjc-framework-SecurityFoundation==7.3 in ./lib/python3.8/site-packages (from pyobjc->pyautogui) (7.3)\n",
      "Requirement already satisfied: pyobjc-framework-DiscRecordingUI==7.3 in ./lib/python3.8/site-packages (from pyobjc->pyautogui) (7.3)\n",
      "Requirement already satisfied: pyobjc-framework-SearchKit==7.3 in ./lib/python3.8/site-packages (from pyobjc->pyautogui) (7.3)\n",
      "Requirement already satisfied: pyobjc-framework-MediaPlayer==7.3 in ./lib/python3.8/site-packages (from pyobjc->pyautogui) (7.3)\n",
      "Requirement already satisfied: pyobjc-framework-GameCenter==7.3 in ./lib/python3.8/site-packages (from pyobjc->pyautogui) (7.3)\n",
      "Requirement already satisfied: pyobjc-framework-LaunchServices==7.3 in ./lib/python3.8/site-packages (from pyobjc->pyautogui) (7.3)\n",
      "Requirement already satisfied: pyobjc-framework-IOSurface==7.3 in ./lib/python3.8/site-packages (from pyobjc->pyautogui) (7.3)\n",
      "Requirement already satisfied: pyobjc-framework-MapKit==7.3 in ./lib/python3.8/site-packages (from pyobjc->pyautogui) (7.3)\n",
      "Requirement already satisfied: pyobjc-framework-PushKit==7.3 in ./lib/python3.8/site-packages (from pyobjc->pyautogui) (7.3)\n",
      "Requirement already satisfied: pyobjc-framework-MetalPerformanceShaders==7.3 in ./lib/python3.8/site-packages (from pyobjc->pyautogui) (7.3)\n",
      "Requirement already satisfied: pyobjc-framework-FSEvents==7.3 in ./lib/python3.8/site-packages (from pyobjc->pyautogui) (7.3)\n",
      "Requirement already satisfied: pyobjc-framework-CoreMotion==7.3 in ./lib/python3.8/site-packages (from pyobjc->pyautogui) (7.3)\n",
      "Requirement already satisfied: pyobjc-framework-Cocoa==7.3 in ./lib/python3.8/site-packages (from pyobjc->pyautogui) (7.3)\n",
      "Requirement already satisfied: pyobjc-framework-CoreMediaIO==7.3 in ./lib/python3.8/site-packages (from pyobjc->pyautogui) (7.3)\n",
      "Requirement already satisfied: pyobjc-framework-Security==7.3 in ./lib/python3.8/site-packages (from pyobjc->pyautogui) (7.3)\n",
      "Requirement already satisfied: pyobjc-framework-AutomaticAssessmentConfiguration==7.3 in ./lib/python3.8/site-packages (from pyobjc->pyautogui) (7.3)\n",
      "Requirement already satisfied: pyobjc-framework-CoreAudioKit==7.3 in ./lib/python3.8/site-packages (from pyobjc->pyautogui) (7.3)\n",
      "Requirement already satisfied: pyobjc-framework-CoreAudio==7.3 in ./lib/python3.8/site-packages (from pyobjc->pyautogui) (7.3)\n",
      "Requirement already satisfied: pyobjc-framework-AuthenticationServices==7.3 in ./lib/python3.8/site-packages (from pyobjc->pyautogui) (7.3)\n",
      "Requirement already satisfied: pyobjc-framework-Collaboration==7.3 in ./lib/python3.8/site-packages (from pyobjc->pyautogui) (7.3)\n",
      "Requirement already satisfied: pyobjc-framework-Quartz==7.3 in ./lib/python3.8/site-packages (from pyobjc->pyautogui) (7.3)\n",
      "Requirement already satisfied: pyobjc-framework-CoreML==7.3 in ./lib/python3.8/site-packages (from pyobjc->pyautogui) (7.3)\n",
      "Requirement already satisfied: pyobjc-framework-CoreData==7.3 in ./lib/python3.8/site-packages (from pyobjc->pyautogui) (7.3)\n",
      "Requirement already satisfied: pyobjc-framework-MetalKit==7.3 in ./lib/python3.8/site-packages (from pyobjc->pyautogui) (7.3)\n",
      "Requirement already satisfied: pyobjc-framework-CoreLocation==7.3 in ./lib/python3.8/site-packages (from pyobjc->pyautogui) (7.3)\n",
      "Requirement already satisfied: pyobjc-framework-DVDPlayback==7.3 in ./lib/python3.8/site-packages (from pyobjc->pyautogui) (7.3)\n",
      "Requirement already satisfied: pyobjc-framework-StoreKit==7.3 in ./lib/python3.8/site-packages (from pyobjc->pyautogui) (7.3)\n",
      "Requirement already satisfied: pyobjc-framework-LinkPresentation==7.3 in ./lib/python3.8/site-packages (from pyobjc->pyautogui) (7.3)\n",
      "Requirement already satisfied: pyobjc-framework-InputMethodKit==7.3 in ./lib/python3.8/site-packages (from pyobjc->pyautogui) (7.3)\n",
      "Requirement already satisfied: pyobjc-framework-CalendarStore==7.3 in ./lib/python3.8/site-packages (from pyobjc->pyautogui) (7.3)\n",
      "Requirement already satisfied: pyobjc-framework-iTunesLibrary==7.3 in ./lib/python3.8/site-packages (from pyobjc->pyautogui) (7.3)\n",
      "Requirement already satisfied: pyobjc-framework-MultipeerConnectivity==7.3 in ./lib/python3.8/site-packages (from pyobjc->pyautogui) (7.3)\n",
      "Requirement already satisfied: pyobjc-framework-CoreMIDI==7.3 in ./lib/python3.8/site-packages (from pyobjc->pyautogui) (7.3)\n",
      "Requirement already satisfied: pyobjc-framework-QuickLookThumbnailing==7.3 in ./lib/python3.8/site-packages (from pyobjc->pyautogui) (7.3)\n",
      "Requirement already satisfied: pyobjc-framework-libdispatch==7.3 in ./lib/python3.8/site-packages (from pyobjc->pyautogui) (7.3)\n",
      "Requirement already satisfied: pyobjc-framework-Contacts==7.3 in ./lib/python3.8/site-packages (from pyobjc->pyautogui) (7.3)\n",
      "Requirement already satisfied: pyobjc-framework-ScreenSaver==7.3 in ./lib/python3.8/site-packages (from pyobjc->pyautogui) (7.3)\n",
      "Requirement already satisfied: pyobjc-framework-Network==7.3 in ./lib/python3.8/site-packages (from pyobjc->pyautogui) (7.3)\n",
      "Requirement already satisfied: pyobjc-framework-ColorSync==7.3 in ./lib/python3.8/site-packages (from pyobjc->pyautogui) (7.3)\n",
      "Requirement already satisfied: pyobjc-framework-CoreBluetooth==7.3 in ./lib/python3.8/site-packages (from pyobjc->pyautogui) (7.3)\n"
     ]
    }
   ],
   "source": [
    "!python3 -m pip install pyautogui"
   ]
  },
  {
   "cell_type": "code",
   "execution_count": 2,
   "id": "044d2eb8",
   "metadata": {},
   "outputs": [
    {
     "name": "stdout",
     "output_type": "stream",
     "text": [
      "Collecting chromedriver-binary==91.0.4472.101.0\n",
      "  Using cached chromedriver-binary-91.0.4472.101.0.tar.gz (4.8 kB)\n",
      "Using legacy 'setup.py install' for chromedriver-binary, since package 'wheel' is not installed.\n",
      "Installing collected packages: chromedriver-binary\n",
      "    Running setup.py install for chromedriver-binary ... \u001b[?25ldone\n",
      "\u001b[?25hSuccessfully installed chromedriver-binary-91.0.4472.101.0\n"
     ]
    }
   ],
   "source": [
    "!pip install chromedriver-binary==91.0.4472.101.0"
   ]
  },
  {
   "cell_type": "code",
   "execution_count": 3,
   "id": "256da9de",
   "metadata": {},
   "outputs": [],
   "source": [
    "from selenium import webdriver\n",
    "import chromedriver_binary\n",
    "import time"
   ]
  },
  {
   "cell_type": "code",
   "execution_count": 6,
   "id": "3e968749",
   "metadata": {},
   "outputs": [
    {
     "ename": "AttributeError",
     "evalue": "NSStringPboardType",
     "output_type": "error",
     "traceback": [
      "\u001b[0;31m---------------------------------------------------------------------------\u001b[0m",
      "\u001b[0;31mAttributeError\u001b[0m                            Traceback (most recent call last)",
      "\u001b[0;32m/var/folders/mj/0hfhb2197fng44cwpd2d7swr0000gn/T/ipykernel_31135/391458424.py\u001b[0m in \u001b[0;36m<module>\u001b[0;34m\u001b[0m\n\u001b[1;32m     12\u001b[0m \u001b[0;31m#検索窓に検索ワードを入力\u001b[0m\u001b[0;34m\u001b[0m\u001b[0;34m\u001b[0m\u001b[0;34m\u001b[0m\u001b[0m\n\u001b[1;32m     13\u001b[0m \u001b[0msearch_box\u001b[0m \u001b[0;34m=\u001b[0m \u001b[0mdriver\u001b[0m\u001b[0;34m.\u001b[0m\u001b[0mfind_element_by_name\u001b[0m\u001b[0;34m(\u001b[0m\u001b[0;34m\"q\"\u001b[0m\u001b[0;34m)\u001b[0m\u001b[0;34m\u001b[0m\u001b[0;34m\u001b[0m\u001b[0m\n\u001b[0;32m---> 14\u001b[0;31m \u001b[0mpyperclip\u001b[0m\u001b[0;34m.\u001b[0m\u001b[0mcopy\u001b[0m\u001b[0;34m(\u001b[0m\u001b[0;34m'テスト'\u001b[0m\u001b[0;34m)\u001b[0m\u001b[0;34m\u001b[0m\u001b[0;34m\u001b[0m\u001b[0m\n\u001b[0m\u001b[1;32m     15\u001b[0m \u001b[0mtime\u001b[0m\u001b[0;34m.\u001b[0m\u001b[0msleep\u001b[0m\u001b[0;34m(\u001b[0m\u001b[0;36m2\u001b[0m\u001b[0;34m)\u001b[0m\u001b[0;34m\u001b[0m\u001b[0;34m\u001b[0m\u001b[0m\n\u001b[1;32m     16\u001b[0m \u001b[0mpgui\u001b[0m\u001b[0;34m.\u001b[0m\u001b[0mhotkey\u001b[0m\u001b[0;34m(\u001b[0m\u001b[0;34m'command'\u001b[0m\u001b[0;34m,\u001b[0m \u001b[0;34m'v'\u001b[0m\u001b[0;34m)\u001b[0m\u001b[0;34m\u001b[0m\u001b[0;34m\u001b[0m\u001b[0m\n",
      "\u001b[0;32m~/study/tips/venv_test/venv_test/lib/python3.8/site-packages/pyperclip/__init__.py\u001b[0m in \u001b[0;36mlazy_load_stub_copy\u001b[0;34m(text)\u001b[0m\n\u001b[1;32m    657\u001b[0m     \u001b[0;32mglobal\u001b[0m \u001b[0mcopy\u001b[0m\u001b[0;34m,\u001b[0m \u001b[0mpaste\u001b[0m\u001b[0;34m\u001b[0m\u001b[0;34m\u001b[0m\u001b[0m\n\u001b[1;32m    658\u001b[0m     \u001b[0mcopy\u001b[0m\u001b[0;34m,\u001b[0m \u001b[0mpaste\u001b[0m \u001b[0;34m=\u001b[0m \u001b[0mdetermine_clipboard\u001b[0m\u001b[0;34m(\u001b[0m\u001b[0;34m)\u001b[0m\u001b[0;34m\u001b[0m\u001b[0;34m\u001b[0m\u001b[0m\n\u001b[0;32m--> 659\u001b[0;31m     \u001b[0;32mreturn\u001b[0m \u001b[0mcopy\u001b[0m\u001b[0;34m(\u001b[0m\u001b[0mtext\u001b[0m\u001b[0;34m)\u001b[0m\u001b[0;34m\u001b[0m\u001b[0;34m\u001b[0m\u001b[0m\n\u001b[0m\u001b[1;32m    660\u001b[0m \u001b[0;34m\u001b[0m\u001b[0m\n\u001b[1;32m    661\u001b[0m \u001b[0;34m\u001b[0m\u001b[0m\n",
      "\u001b[0;32m~/study/tips/venv_test/venv_test/lib/python3.8/site-packages/pyperclip/__init__.py\u001b[0m in \u001b[0;36mcopy_osx_pyobjc\u001b[0;34m(text)\u001b[0m\n\u001b[1;32m    137\u001b[0m         \u001b[0mnewData\u001b[0m \u001b[0;34m=\u001b[0m \u001b[0mnewStr\u001b[0m\u001b[0;34m.\u001b[0m\u001b[0mdataUsingEncoding_\u001b[0m\u001b[0;34m(\u001b[0m\u001b[0mFoundation\u001b[0m\u001b[0;34m.\u001b[0m\u001b[0mNSUTF8StringEncoding\u001b[0m\u001b[0;34m)\u001b[0m\u001b[0;34m\u001b[0m\u001b[0;34m\u001b[0m\u001b[0m\n\u001b[1;32m    138\u001b[0m         \u001b[0mboard\u001b[0m \u001b[0;34m=\u001b[0m \u001b[0mAppKit\u001b[0m\u001b[0;34m.\u001b[0m\u001b[0mNSPasteboard\u001b[0m\u001b[0;34m.\u001b[0m\u001b[0mgeneralPasteboard\u001b[0m\u001b[0;34m(\u001b[0m\u001b[0;34m)\u001b[0m\u001b[0;34m\u001b[0m\u001b[0;34m\u001b[0m\u001b[0m\n\u001b[0;32m--> 139\u001b[0;31m         \u001b[0mboard\u001b[0m\u001b[0;34m.\u001b[0m\u001b[0mdeclareTypes_owner_\u001b[0m\u001b[0;34m(\u001b[0m\u001b[0;34m[\u001b[0m\u001b[0mAppKit\u001b[0m\u001b[0;34m.\u001b[0m\u001b[0mNSStringPboardType\u001b[0m\u001b[0;34m]\u001b[0m\u001b[0;34m,\u001b[0m \u001b[0;32mNone\u001b[0m\u001b[0;34m)\u001b[0m\u001b[0;34m\u001b[0m\u001b[0;34m\u001b[0m\u001b[0m\n\u001b[0m\u001b[1;32m    140\u001b[0m         \u001b[0mboard\u001b[0m\u001b[0;34m.\u001b[0m\u001b[0msetData_forType_\u001b[0m\u001b[0;34m(\u001b[0m\u001b[0mnewData\u001b[0m\u001b[0;34m,\u001b[0m \u001b[0mAppKit\u001b[0m\u001b[0;34m.\u001b[0m\u001b[0mNSStringPboardType\u001b[0m\u001b[0;34m)\u001b[0m\u001b[0;34m\u001b[0m\u001b[0;34m\u001b[0m\u001b[0m\n\u001b[1;32m    141\u001b[0m \u001b[0;34m\u001b[0m\u001b[0m\n",
      "\u001b[0;32m~/study/tips/venv_test/venv_test/lib/python3.8/site-packages/objc/_lazyimport.py\u001b[0m in \u001b[0;36m__getattr__\u001b[0;34m(self, name)\u001b[0m\n\u001b[1;32m    205\u001b[0m \u001b[0;34m\u001b[0m\u001b[0m\n\u001b[1;32m    206\u001b[0m         \u001b[0;31m# Finally give up and raise AttributeError\u001b[0m\u001b[0;34m\u001b[0m\u001b[0;34m\u001b[0m\u001b[0;34m\u001b[0m\u001b[0m\n\u001b[0;32m--> 207\u001b[0;31m         \u001b[0;32mraise\u001b[0m \u001b[0mAttributeError\u001b[0m\u001b[0;34m(\u001b[0m\u001b[0mname\u001b[0m\u001b[0;34m)\u001b[0m\u001b[0;34m\u001b[0m\u001b[0;34m\u001b[0m\u001b[0m\n\u001b[0m\u001b[1;32m    208\u001b[0m \u001b[0;34m\u001b[0m\u001b[0m\n\u001b[1;32m    209\u001b[0m     \u001b[0;32mdef\u001b[0m \u001b[0m__calc_all\u001b[0m\u001b[0;34m(\u001b[0m\u001b[0mself\u001b[0m\u001b[0;34m)\u001b[0m\u001b[0;34m:\u001b[0m\u001b[0;34m\u001b[0m\u001b[0;34m\u001b[0m\u001b[0m\n",
      "\u001b[0;31mAttributeError\u001b[0m: NSStringPboardType"
     ]
    }
   ],
   "source": [
    "import pyautogui as pgui\n",
    "import pyperclip\n",
    "\n",
    "#ブラウザ起動\n",
    "driver = webdriver.Chrome()\n",
    "time.sleep(1)\n",
    "\n",
    "#Googleにアクセス\n",
    "driver.get('https://www.google.co.jp/')\n",
    "time.sleep(2)\n",
    "\n",
    "#検索窓に検索ワードを入力\n",
    "search_box = driver.find_element_by_name(\"q\")\n",
    "pyperclip.copy('テスト')\n",
    "time.sleep(2)\n",
    "pgui.hotkey('command', 'v')\n",
    "time.sleep(1)\n",
    "\n",
    "#pyautoguiでreturnを押下\n",
    "pgui.hotkey('return')\n",
    "time.sleep(5)\n",
    "print('returnを押下して、Googleで検索しました')\n",
    "\n",
    "#pyautoguiでcommandとwを押下 　ブラウザのタブを閉じるショートカット\n",
    "pgui.hotkey('command', 'w')\n",
    "print('commandとwを押下して、ブラウザを閉じました')"
   ]
  }
 ],
 "metadata": {
  "kernelspec": {
   "display_name": "Python 3 (ipykernel)",
   "language": "python",
   "name": "python3"
  },
  "language_info": {
   "codemirror_mode": {
    "name": "ipython",
    "version": 3
   },
   "file_extension": ".py",
   "mimetype": "text/x-python",
   "name": "python",
   "nbconvert_exporter": "python",
   "pygments_lexer": "ipython3",
   "version": "3.8.0"
  }
 },
 "nbformat": 4,
 "nbformat_minor": 5
}
